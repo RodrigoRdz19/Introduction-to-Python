{
  "nbformat": 4,
  "nbformat_minor": 0,
  "metadata": {
    "colab": {
      "name": "INTRODUCTION TO PYTHON.ipynb",
      "provenance": [],
      "collapsed_sections": [
        "ZQk96CjN_rsO",
        "Xwb3cyyPDaeM"
      ]
    },
    "kernelspec": {
      "name": "python3",
      "display_name": "Python 3"
    },
    "language_info": {
      "name": "python"
    }
  },
  "cells": [
    {
      "cell_type": "markdown",
      "metadata": {
        "id": "ZQk96CjN_rsO"
      },
      "source": [
        "#INTRODUCTION TO PHYTON"
      ]
    },
    {
      "cell_type": "markdown",
      "metadata": {
        "id": "f6QpfDBA2NWI"
      },
      "source": [
        "### What is Phyton?\n",
        "\n",
        "Python is an interpreted programming language whose main philosophy is that it is readable by anyone with basic programming knowledge. In addition, it has a series of characteristics that make it very particular and that, without a doubt, provide it with many advantages and are at the root of its widespread use:\n",
        "\n",
        "* It is free since it is an open source language so there is no license to pay for its use.\n",
        "* It is very flexible and easy to learn independently.\n",
        "* Can be used in web application design or artificial intelligence.\n",
        "* Phyton is suitable for any platform.\n",
        "\n",
        "![texto alternativo](https://cosasdedevs.com/media/sections/images/python.png)\n"
      ]
    },
    {
      "cell_type": "markdown",
      "metadata": {
        "id": "pOe6PG-2DSt-"
      },
      "source": [
        "## History"
      ]
    },
    {
      "cell_type": "markdown",
      "metadata": {
        "id": "4XSmyI1mDcSC"
      },
      "source": [
        "Phyton was created in the early nineties by Guido van Rossum in Netherland, as a successor to the ABC programming language, being able to handle and interact with the Amoeba operating system. The name of Python is attributed to the humorists Monty Python due to van Rossum was very fond of them.\n",
        "\n",
        "In February 1991 the first public version was published: 0.9.0. This first version of Python already included classes with inheritance, exception handling, functions and one of its fundamental characteristics: modular operation. This allowed it to be a much cleaner and more accessible language for people with little programming knowledge. A feature that remains to this day.\n",
        "\n",
        "![texto alternativo](https://i.blogs.es/43f32c/van_rossum/1366_2000.jpg)"
      ]
    },
    {
      "cell_type": "markdown",
      "metadata": {
        "id": "ZcdAj-KbD_wS"
      },
      "source": [
        "## Versions"
      ]
    },
    {
      "cell_type": "markdown",
      "metadata": {
        "id": "GvADkLqtEGUL"
      },
      "source": [
        "The history of Python begins with Guido Van Rossum starting its development in 1989 and starting to implement it in February 1991, at which time the first public version was published: 0.9.0.\n",
        "\n",
        "### Version 1.0\n",
        "\n",
        "CWI research center who released Python version 1.2 in 1995. From this point on, disengaged from CWI, Van Rossum made the code even more accessible and by the year 2000, the core Python developer team moved to BeOpen.com to form the BeOpen Python Labs team.\n",
        "\n",
        "### Version 2.0\n",
        "\n",
        "In the year 2000 the second version of Python was published. A new version in which the generation of lists was included, one of the most important characteristics of this programming language.\n",
        "\n",
        "This new version of Python also included a new system thanks to which programmers were able to make cyclic references and, in this way, Python could collect garbage within the code\n",
        "\n",
        "### Version 3.0\n",
        "\n",
        "The last major update in the history of Python occurred in 2008 with the release of version 3.0, which came to solve the main flaws in the design of this programming language.\n",
        "\n",
        "The latest update for Python version 3 has been released this October 2020. It is version 3.9. This programming language will not be updated again until October 2021."
      ]
    },
    {
      "cell_type": "markdown",
      "metadata": {
        "id": "Xwb3cyyPDaeM"
      },
      "source": [
        "# Statements\n"
      ]
    },
    {
      "cell_type": "markdown",
      "metadata": {
        "id": "VrfGXMXNUBhv"
      },
      "source": [
        "## Print Statement\n",
        "\n",
        "\n"
      ]
    },
    {
      "cell_type": "markdown",
      "metadata": {
        "id": "nsEQNmMrA3xn"
      },
      "source": [
        "One of the most basic functions that cannot be missed when making a program is to display text on the screen, whether it is also numbers, results, etc.\n",
        "\n",
        "For this, the function print () is used\n",
        "\n",
        "Inside the parentheses you write what you want to show, you just have to follow the rules, be it text or numbers.\n",
        "\n",
        "For the letters inside the parentheses, quotation marks are written as follows: ('text')\n",
        "\n",
        "For the numbers inside the parentheses, they are written without quotes as follows: (1 + 2)\n",
        "\n",
        "The print function also allows you to combine text and numbers, just following the aforementioned rules. It is worth mentioning that the variables do not have quotes either.\n",
        "\n",
        "Finally the strings f contain variables and expressions between braces \"{}\" that are directly substituted by their value. Strings \"f\" are recognized because they begin with a letter f before the opening quotation mark."
      ]
    },
    {
      "cell_type": "code",
      "metadata": {
        "id": "raB-JjVPWMhr"
      },
      "source": [
        "print('Hello World')\n",
        "\n",
        "print(1+2)\n",
        "\n",
        "name = \"Rodrigo\"\n",
        "age = 18\n",
        "print(\"My name is\", name, \"a I\", age, \"years old.\")\n",
        "\n",
        "name = \"Rodrigo\"\n",
        "age = 18\n",
        "print(f\"My name is {name} and I {age} years old.\")\n"
      ],
      "execution_count": null,
      "outputs": []
    },
    {
      "cell_type": "markdown",
      "metadata": {
        "id": "sBpct4O3X61Z"
      },
      "source": [
        " ## If-else Statement\n"
      ]
    },
    {
      "cell_type": "markdown",
      "metadata": {
        "id": "Ucyz2DocBSTT"
      },
      "source": [
        " These two statements are used to control the flow of a program, allowing to control specific blocks according to the value of some data.\n",
        "\n",
        "  ### The If statement\n",
        "\n",
        "  If the condition that follows the if word is true, the program will execute.\n",
        "\n",
        "  On the other hand, the else statement works more as an if response in case the condition is false.\n",
        "\n",
        "  A specific example of each of them can be the following:"
      ]
    },
    {
      "cell_type": "code",
      "metadata": {
        "id": "xdNm2BPq4GiS"
      },
      "source": [
        "print('If example')\n",
        "x = 5\n",
        "if x > 4:\n",
        "  print(\"The condition is true\") \n"
      ],
      "execution_count": null,
      "outputs": []
    },
    {
      "cell_type": "code",
      "metadata": {
        "id": "Hf-lmv785jVT"
      },
      "source": [
        "print('If with else example')\n",
        "y = 3\n",
        "if y > 4:\n",
        "  print(\"The number is\")\n",
        "else:\n",
        "  print(\"The condition is not true\") "
      ],
      "execution_count": null,
      "outputs": []
    },
    {
      "cell_type": "markdown",
      "metadata": {
        "id": "tegqc07h6NVT"
      },
      "source": [
        "## Loops"
      ]
    },
    {
      "cell_type": "markdown",
      "metadata": {
        "id": "bW4sqpn6BmHD"
      },
      "source": [
        "### For Cycle\n",
        "\n",
        "There are two types of loops in Python: \"for\" and \"while\".\n",
        "\n",
        "The for loop is used to loop through the elements of an object and execute a block of code. In each step of the iteration, a single element of the iterable object is taken into account, on which a series of operations can be applied. An example of this is the following:"
      ]
    },
    {
      "cell_type": "code",
      "metadata": {
        "id": "53FwVj477QsW"
      },
      "source": [
        "for i in range(10):\n",
        "    print(i)"
      ],
      "execution_count": null,
      "outputs": []
    },
    {
      "cell_type": "markdown",
      "metadata": {
        "id": "ddFiSkBV8Jfi"
      },
      "source": [
        "The range () type with a single argument is written range (n) and creates an immutable list of n consecutive integers starting at 0 and ending at n - 1.\n",
        "\n",
        "### While Loop\n",
        "\n",
        "A while loop allows you to repeat the execution of a group of instructions as long as a condition is met.\n",
        "\n",
        "Python evaluates the condition:\n",
        "\n",
        "* If the result is True, the body of the loop is executed. After the body of the loop is executed, the process is repeated (the condition is evaluated again and, if true, the body of the loop is executed again) over and over as long as the condition is true.\n",
        "\n",
        "* If the result is False, the body of the loop is not executed and the execution of the rest of the program continues.\n",
        "\n",
        "* The variable or variables that appear in the condition are usually called control variables. Control variables must be defined before the while loop and modified in the while loop.\n",
        "\n"
      ]
    },
    {
      "cell_type": "code",
      "metadata": {
        "id": "4XG_Qw8M-REK"
      },
      "source": [
        "i = 1\n",
        "while i <= 5:\n",
        "    print(i)\n",
        "    i += 1\n",
        "print(\"Finished program\")"
      ],
      "execution_count": null,
      "outputs": []
    },
    {
      "cell_type": "markdown",
      "metadata": {
        "id": "S7Su-5ml_KqR"
      },
      "source": [
        "Another advantage of the while loop is that the number of iterations is not defined before the loop starts, for example because the data is provided by the user. For example, the following example prompts the user for a positive number over and over until the user succeeds:"
      ]
    },
    {
      "cell_type": "code",
      "metadata": {
        "id": "zWM6phu8_Nlu"
      },
      "source": [
        "number = int(input(\"Write a positive number: \"))\n",
        "while number < 0:\n",
        "    print(\"You have written a negative number! Try again\")\n",
        "    number = int(input(\"Write a positive number: \"))\n",
        "print(\"Thank you for your cooperation\")"
      ],
      "execution_count": null,
      "outputs": []
    }
  ]
}